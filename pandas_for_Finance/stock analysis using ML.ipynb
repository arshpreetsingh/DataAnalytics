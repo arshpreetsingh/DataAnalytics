{
 "cells": [
  {
   "cell_type": "code",
   "execution_count": 21,
   "metadata": {
    "collapsed": false
   },
   "outputs": [],
   "source": [
    "import datetime\n",
    "import numpy as np\n",
    "import pandas as pd\n",
    "import sklearn\n",
    "\n",
    "\n",
    "from pandas_datareader import data as read_data\n",
    "from sklearn.linear_model import LogisticRegression\n",
    "from sklearn.lda import LDA\n",
    "from sklearn.qda import QDA"
   ]
  },
  {
   "cell_type": "code",
   "execution_count": 22,
   "metadata": {
    "collapsed": true
   },
   "outputs": [],
   "source": [
    "def create_lagged_series(data_frame,lags=5):\n",
    "    \"\"\"This creates a pandas DataFrame that stores the percentage returns of the \n",
    "    adjusted closing value of a stock obtained from Yahoo Finance, along with \n",
    "    a number of lagged returns from the prior trading days (lags defaults to 5 days).\n",
    "    Trading volume, as well as the Direction from the previous day, are also included.\"\"\"\n",
    "    # Create the new lagged DataFrame\n",
    "    tslag = pd.DataFrame(index=ts.index)\n",
    "    tslag[\"Today\"] = ts[\"Adj Close\"]\n",
    "    tslag[\"Volume\"] = ts[\"Volume\"]\n",
    "\n",
    "    # Create the shifted lag series of prior trading period close values\n",
    "    for i in xrange(0,lags):\n",
    "        tslag[\"Lag%s\" % str(i+1)] = ts[\"Adj Close\"].shift(i+1)\n",
    "\n",
    "    # Create the returns DataFrame\n",
    "    tsret = pd.DataFrame(index=tslag.index)\n",
    "    tsret[\"Volume\"] = tslag[\"Volume\"]\n",
    "    tsret[\"Today\"] = tslag[\"Today\"].pct_change()*100.0\n",
    "\n",
    "    # If any of the values of percentage returns equal zero, set them to\n",
    "    # a small number (stops issues with QDA model in scikit-learn)\n",
    "    for i,x in enumerate(tsret[\"Today\"]):\n",
    "        if (abs(x) < 0.0001):\n",
    "            tsret[\"Today\"][i] = 0.0001\n",
    "\n",
    "    # Create the lagged percentage returns columns\n",
    "    for i in xrange(0,lags):\n",
    "        tsret[\"Lag%s\" % str(i+1)] = tslag[\"Lag%s\" % str(i+1)].pct_change()*100.0\n",
    "\n",
    "    # Create the \"Direction\" column (+1 or -1) indicating an up/down day\n",
    "    tsret[\"Direction\"] = np.sign(tsret[\"Today\"])\n",
    "    tsret = tsret[tsret.index >= start_date]\n",
    "\n",
    "    return tsret"
   ]
  },
  {
   "cell_type": "code",
   "execution_count": 23,
   "metadata": {
    "collapsed": true
   },
   "outputs": [],
   "source": [
    "def fit_model(name, model, X_train, y_train, X_test, pred):\n",
    "    \"\"\"Fits a classification model (for our purposes this is LR, LDA and QDA)\n",
    "    using the training data, then makes a prediction and subsequent \"hit rate\"\n",
    "    for the test data.\"\"\"\n",
    "\n",
    "    # Fit and predict the model on the training, and then test, data\n",
    "    model.fit(X_train, y_train)\n",
    "    pred[name] = model.predict(X_test)\n",
    "\n",
    "    # Create a series with 1 being correct direction, 0 being wrong\n",
    "    # and then calculate the hit rate based on the actual direction\n",
    "    \n",
    "    # ethe \n",
    "    pred[\"%s_Correct\" % name] = (1.0+pred[name]*pred[\"Actual\"])/2.0\n",
    "    hit_rate = np.mean(pred[\"%s_Correct\" % name])\n",
    "    print \"%s: %.3f\" % (name, hit_rate)"
   ]
  },
  {
   "cell_type": "code",
   "execution_count": 53,
   "metadata": {
    "collapsed": false
   },
   "outputs": [
    {
     "name": "stdout",
     "output_type": "stream",
     "text": [
      "                  Open        High         Low       Close     Volume  \\\n",
      "Date                                                                    \n",
      "2010-01-04  213.429998  214.499996  212.380001  214.009998  123432400   \n",
      "2010-01-05  214.599998  215.589994  213.249994  214.379993  150476200   \n",
      "2010-01-06  214.379993  215.230000  210.750004  210.969995  138040000   \n",
      "2010-01-07  211.750000  212.000006  209.050005  210.580000  119282800   \n",
      "2010-01-08  210.299994  212.000006  209.060005  211.980005  111902700   \n",
      "\n",
      "            Adj Close  \n",
      "Date                   \n",
      "2010-01-04  27.847252  \n",
      "2010-01-05  27.895396  \n",
      "2010-01-06  27.451683  \n",
      "2010-01-07  27.400936  \n",
      "2010-01-08  27.583106  \n",
      "         PE change_pct    last  short_ratio    time\n",
      "AAPL  14.67     +1.59%  121.88         1.62  4:00pm\n",
      "hellooooooo\n",
      "         PE change_pct    last  short_ratio    time\n",
      "AAPL  14.67     +1.59%  121.88         1.62  4:00pm\n",
      "['DataReader', 'EurostatReader', 'FamaFrenchReader', 'FredReader', 'GoogleDailyReader', 'OECDReader', 'Options', 'YahooActionReader', 'YahooDailyReader', 'YahooOptions', 'YahooQuotesReader', '__builtins__', '__doc__', '__file__', '__name__', '__package__', 'get_components_yahoo', 'get_data_famafrench', 'get_data_fred', 'get_data_google', 'get_data_yahoo', 'get_data_yahoo_actions', 'get_quote_google', 'get_quote_yahoo', 'warnings']\n"
     ]
    }
   ],
   "source": [
    "if __name__ == \"__main__\":\n",
    "    # Create a lagged series of the S&P500 US stock market index\n",
    "    \n",
    "   # snpret = create_lagged_series(\"AAPL\", datetime.datetime(2012,1,10), datetime.datetime(2015,12,31), lags=5)\n",
    "    mm = read_data.get_data_yahoo(\"AAPL\").head()\n",
    "    print mm\n",
    "    print read_data.get_quote_yahoo(\"AAPL\")\n",
    "    mo = read_data.YahooQuotesReader(\"AAPL\")\n",
    "    print 'hellooooooo'\n",
    "    print mo.read()\n",
    "    print dir(read_data)\n",
    "    \n",
    "    #mm = pdr\n",
    "    #aapl = read_data.DataReader('AAPL', 'yahoo', '2014-01-01')\n",
    "    \n",
    "    \n",
    "    #mm = read_data.get_data_yahoo(symbols='IBM')\n",
    "   # print(ibm['Adj Close'])\n",
    "    \n",
    "    \n",
    "    \n",
    "    \"hun es vich adjacent_close nahi aa riha, close and adjacent_close vich ki difference hai?\"\n",
    "    \n",
    "    # ok work flow now---- pehlan adjancent_close wala masla hall karo - ok ho gea ,, asal vich koi masla hai e nahi c :P\n",
    "    \n",
    "    # fer k_fold-cross validation lagao\n",
    "    \n",
    "    # training and sample data te\n",
    "    \n",
    "    # fer eh dekho ke tusi kall wala price matlab 27th Jan. wala price kiven predict karna hai-----\n",
    "    \n",
    "    # fer esnu Quantopian naal embed karo :)  You rocks!!\n",
    "    \n",
    "    \n",
    "    \n",
    "    # Use the prior two days of returns as predictor values, with direction as the response\n",
    "   \n",
    "    '''\n",
    "     X = snpret[[\"Lag1\",\"Lag2\"]]\n",
    "    y = snpret[\"Direction\"]\n",
    "\n",
    "    # The test data is split into two parts: Before and after 1st Jan 2005.\n",
    "    start_test = datetime.datetime(2005,1,1)\n",
    "\n",
    "    # Create training and test sets\n",
    "    X_train = X[X.index < start_test]\n",
    "    X_test = X[X.index >= start_test]\n",
    "    y_train = y[y.index < start_test]\n",
    "    y_test = y[y.index >= start_test]\n",
    "\n",
    "    # Create prediction DataFrame\n",
    "    pred = pd.DataFrame(index=y_test.index)\n",
    "    pred[\"Actual\"] = y_test\n",
    "    \n",
    "    # Create and fit the three models    \n",
    "    print \"Hit Rates:\"\n",
    "    models = [(\"LR\", LogisticRegression()), (\"LDA\", LDA()), (\"QDA\", QDA())]\n",
    "    for m in models:\n",
    "        fit_model(m[0], m[1], X_train, y_train, X_test, pred)\n",
    "        \n",
    "        '''\n",
    "   # print aapl.tail() # ok hun aapne kol eh data vi aa gea,, apan odan e last 3 years da karange"
   ]
  },
  {
   "cell_type": "code",
   "execution_count": 5,
   "metadata": {
    "collapsed": false
   },
   "outputs": [
    {
     "ename": "TypeError",
     "evalue": "create_lagged_series() takes at most 2 arguments (4 given)",
     "output_type": "error",
     "traceback": [
      "\u001b[0;31m---------------------------------------------------------------------------\u001b[0m",
      "\u001b[0;31mTypeError\u001b[0m                                 Traceback (most recent call last)",
      "\u001b[0;32m<ipython-input-5-af58b2474268>\u001b[0m in \u001b[0;36m<module>\u001b[0;34m()\u001b[0m\n\u001b[1;32m      1\u001b[0m \u001b[0;32mif\u001b[0m \u001b[0m__name__\u001b[0m \u001b[0;34m==\u001b[0m \u001b[0;34m\"__main__\"\u001b[0m\u001b[0;34m:\u001b[0m\u001b[0;34m\u001b[0m\u001b[0m\n\u001b[1;32m      2\u001b[0m     \u001b[0;31m# Create a lagged series of the S&P500 US stock market index\u001b[0m\u001b[0;34m\u001b[0m\u001b[0;34m\u001b[0m\u001b[0m\n\u001b[0;32m----> 3\u001b[0;31m     \u001b[0msnpret\u001b[0m \u001b[0;34m=\u001b[0m \u001b[0mcreate_lagged_series\u001b[0m\u001b[0;34m(\u001b[0m\u001b[0;34m\"^GSPC\"\u001b[0m\u001b[0;34m,\u001b[0m \u001b[0mdatetime\u001b[0m\u001b[0;34m.\u001b[0m\u001b[0mdatetime\u001b[0m\u001b[0;34m(\u001b[0m\u001b[0;36m2001\u001b[0m\u001b[0;34m,\u001b[0m\u001b[0;36m1\u001b[0m\u001b[0;34m,\u001b[0m\u001b[0;36m10\u001b[0m\u001b[0;34m)\u001b[0m\u001b[0;34m,\u001b[0m \u001b[0mdatetime\u001b[0m\u001b[0;34m.\u001b[0m\u001b[0mdatetime\u001b[0m\u001b[0;34m(\u001b[0m\u001b[0;36m2005\u001b[0m\u001b[0;34m,\u001b[0m\u001b[0;36m12\u001b[0m\u001b[0;34m,\u001b[0m\u001b[0;36m31\u001b[0m\u001b[0;34m)\u001b[0m\u001b[0;34m,\u001b[0m \u001b[0mlags\u001b[0m\u001b[0;34m=\u001b[0m\u001b[0;36m5\u001b[0m\u001b[0;34m)\u001b[0m\u001b[0;34m\u001b[0m\u001b[0m\n\u001b[0m\u001b[1;32m      4\u001b[0m \u001b[0;34m\u001b[0m\u001b[0m\n\u001b[1;32m      5\u001b[0m     \u001b[0;31m# Use the prior two days of returns as predictor values, with direction as the response\u001b[0m\u001b[0;34m\u001b[0m\u001b[0;34m\u001b[0m\u001b[0m\n",
      "\u001b[0;31mTypeError\u001b[0m: create_lagged_series() takes at most 2 arguments (4 given)"
     ]
    }
   ],
   "source": [
    "if __name__ == \"__main__\":\n",
    "    # Create a lagged series of the S&P500 US stock market index\n",
    "    snpret = create_lagged_series(\"^GSPC\", datetime.datetime(2001,1,10), datetime.datetime(2005,12,31), lags=5)\n",
    "\n",
    "    # Use the prior two days of returns as predictor values, with direction as the response\n",
    "    X = snpret[[\"Lag1\",\"Lag2\"]]\n",
    "    y = snpret[\"Direction\"]\n",
    "\n",
    "    # The test data is split into two parts: Before and after 1st Jan 2005.\n",
    "    start_test = datetime.datetime(2005,1,1)\n",
    "\n",
    "    # Create training and test sets\n",
    "    X_train = X[X.index < start_test]\n",
    "    X_test = X[X.index >= start_test]\n",
    "    y_train = y[y.index < start_test]\n",
    "    y_test = y[y.index >= start_test]\n",
    "    \n",
    "    # Create prediction DataFrame\n",
    "    pred = pd.DataFrame(index=y_test.index)\n",
    "    pred[\"Actual\"] = y_test\n",
    "    #print pred\n",
    "    # Create and fit the three models    \n",
    "    #print \"Hit Rates:\"\n",
    "    #models = [(\"LR\", LogisticRegression()), (\"LDA\", LDA()), (\"QDA\", QDA())]\n",
    "    #for m in models:\n",
    "    print fit_model(\"LR\",LogisticRegression(), X_train, y_train, X_test, pred)\n",
    "    print pred\n",
    "    print y_test\n",
    "    \n",
    "    # eh \"pred\" kiven create hoya hai?\n",
    "    # \n",
    "    \n",
    "    # eh riha following code jehda Data Frame nu create kar riha hai...\n",
    "    \n",
    "    '''\n",
    "    pred[\"%s_Correct\" % name] = (1.0+pred[name]*pred[\"Actual\"])/2.0\n",
    "    hit_rate = np.mean(pred[\"%s_Correct\" % name])\n",
    "    print \"%s: %.3f\" % (name, hit_rate)\n",
    "    \n",
    "    \n",
    "    '''\n",
    "    \n",
    "    # Hun apan ki karna hai?\n",
    "    \n",
    "    \n",
    "    \n",
    "    # jehda eh algorithm aa esne sirf predictions ekadhian ne,,\n",
    "    # pehlan predit_func baare padho changi taran naal,, ke predictions kiven dekhnian han\n",
    "    \n",
    "    # fer latest_data use karo and aun wale dina diyan predictions karo,,,, i mean kall di prediction kadho\n",
    "    \n",
    "    # us ton baad doosre stuff wal dhyaan deo"
   ]
  },
  {
   "cell_type": "code",
   "execution_count": null,
   "metadata": {
    "collapsed": true
   },
   "outputs": [],
   "source": []
  },
  {
   "cell_type": "code",
   "execution_count": null,
   "metadata": {
    "collapsed": true
   },
   "outputs": [],
   "source": []
  }
 ],
 "metadata": {
  "anaconda-cloud": {},
  "kernelspec": {
   "display_name": "Python [conda root]",
   "language": "python",
   "name": "conda-root-py"
  },
  "language_info": {
   "codemirror_mode": {
    "name": "ipython",
    "version": 2
   },
   "file_extension": ".py",
   "mimetype": "text/x-python",
   "name": "python",
   "nbconvert_exporter": "python",
   "pygments_lexer": "ipython2",
   "version": "2.7.12"
  }
 },
 "nbformat": 4,
 "nbformat_minor": 1
}
