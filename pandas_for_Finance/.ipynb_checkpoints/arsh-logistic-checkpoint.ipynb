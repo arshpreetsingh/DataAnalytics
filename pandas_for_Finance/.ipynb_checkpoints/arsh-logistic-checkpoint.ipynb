{
 "cells": [
  {
   "cell_type": "code",
   "execution_count": 8,
   "metadata": {
    "collapsed": false
   },
   "outputs": [],
   "source": [
    "import datetime\n",
    "import numpy as np\n",
    "import pandas as pd\n",
    "import sklearn\n",
    "from pandas.io import data\n",
    "from sklearn.linear_model import LogisticRegression"
   ]
  },
  {
   "cell_type": "code",
   "execution_count": 89,
   "metadata": {
    "collapsed": false
   },
   "outputs": [
    {
     "data": {
      "text/html": [
       "<div>\n",
       "<table border=\"1\" class=\"dataframe\">\n",
       "  <thead>\n",
       "    <tr style=\"text-align: right;\">\n",
       "      <th></th>\n",
       "      <th>﻿Date</th>\n",
       "      <th>Open</th>\n",
       "      <th>High</th>\n",
       "      <th>Low</th>\n",
       "      <th>Close</th>\n",
       "      <th>Volume</th>\n",
       "    </tr>\n",
       "  </thead>\n",
       "  <tbody>\n",
       "    <tr>\n",
       "      <th>0</th>\n",
       "      <td>26-Feb-16</td>\n",
       "      <td>708.58</td>\n",
       "      <td>713.43</td>\n",
       "      <td>700.86</td>\n",
       "      <td>705.07</td>\n",
       "      <td>2239978</td>\n",
       "    </tr>\n",
       "    <tr>\n",
       "      <th>1</th>\n",
       "      <td>25-Feb-16</td>\n",
       "      <td>700.01</td>\n",
       "      <td>705.98</td>\n",
       "      <td>690.58</td>\n",
       "      <td>705.75</td>\n",
       "      <td>1631855</td>\n",
       "    </tr>\n",
       "    <tr>\n",
       "      <th>2</th>\n",
       "      <td>24-Feb-16</td>\n",
       "      <td>688.92</td>\n",
       "      <td>700.00</td>\n",
       "      <td>680.78</td>\n",
       "      <td>699.56</td>\n",
       "      <td>1958611</td>\n",
       "    </tr>\n",
       "    <tr>\n",
       "      <th>3</th>\n",
       "      <td>23-Feb-16</td>\n",
       "      <td>701.45</td>\n",
       "      <td>708.40</td>\n",
       "      <td>693.58</td>\n",
       "      <td>695.85</td>\n",
       "      <td>1999699</td>\n",
       "    </tr>\n",
       "    <tr>\n",
       "      <th>4</th>\n",
       "      <td>22-Feb-16</td>\n",
       "      <td>707.45</td>\n",
       "      <td>713.24</td>\n",
       "      <td>702.51</td>\n",
       "      <td>706.46</td>\n",
       "      <td>1946067</td>\n",
       "    </tr>\n",
       "    <tr>\n",
       "      <th>5</th>\n",
       "      <td>19-Feb-16</td>\n",
       "      <td>695.03</td>\n",
       "      <td>703.08</td>\n",
       "      <td>694.05</td>\n",
       "      <td>700.91</td>\n",
       "      <td>1582260</td>\n",
       "    </tr>\n",
       "    <tr>\n",
       "      <th>6</th>\n",
       "      <td>18-Feb-16</td>\n",
       "      <td>710.00</td>\n",
       "      <td>712.35</td>\n",
       "      <td>696.03</td>\n",
       "      <td>697.35</td>\n",
       "      <td>1859130</td>\n",
       "    </tr>\n",
       "    <tr>\n",
       "      <th>7</th>\n",
       "      <td>17-Feb-16</td>\n",
       "      <td>699.00</td>\n",
       "      <td>709.75</td>\n",
       "      <td>691.38</td>\n",
       "      <td>708.40</td>\n",
       "      <td>2466808</td>\n",
       "    </tr>\n",
       "    <tr>\n",
       "      <th>8</th>\n",
       "      <td>16-Feb-16</td>\n",
       "      <td>692.98</td>\n",
       "      <td>698.00</td>\n",
       "      <td>685.05</td>\n",
       "      <td>691.00</td>\n",
       "      <td>2497024</td>\n",
       "    </tr>\n",
       "    <tr>\n",
       "      <th>9</th>\n",
       "      <td>12-Feb-16</td>\n",
       "      <td>690.26</td>\n",
       "      <td>693.75</td>\n",
       "      <td>678.60</td>\n",
       "      <td>682.40</td>\n",
       "      <td>2129831</td>\n",
       "    </tr>\n",
       "    <tr>\n",
       "      <th>10</th>\n",
       "      <td>11-Feb-16</td>\n",
       "      <td>675.00</td>\n",
       "      <td>689.35</td>\n",
       "      <td>668.87</td>\n",
       "      <td>683.11</td>\n",
       "      <td>3007223</td>\n",
       "    </tr>\n",
       "    <tr>\n",
       "      <th>11</th>\n",
       "      <td>10-Feb-16</td>\n",
       "      <td>686.86</td>\n",
       "      <td>701.31</td>\n",
       "      <td>682.13</td>\n",
       "      <td>684.12</td>\n",
       "      <td>2627379</td>\n",
       "    </tr>\n",
       "    <tr>\n",
       "      <th>12</th>\n",
       "      <td>9-Feb-16</td>\n",
       "      <td>672.32</td>\n",
       "      <td>699.90</td>\n",
       "      <td>668.77</td>\n",
       "      <td>678.11</td>\n",
       "      <td>3604335</td>\n",
       "    </tr>\n",
       "    <tr>\n",
       "      <th>13</th>\n",
       "      <td>8-Feb-16</td>\n",
       "      <td>667.85</td>\n",
       "      <td>684.03</td>\n",
       "      <td>663.06</td>\n",
       "      <td>682.74</td>\n",
       "      <td>4212541</td>\n",
       "    </tr>\n",
       "    <tr>\n",
       "      <th>14</th>\n",
       "      <td>5-Feb-16</td>\n",
       "      <td>703.87</td>\n",
       "      <td>703.99</td>\n",
       "      <td>680.15</td>\n",
       "      <td>683.57</td>\n",
       "      <td>5069985</td>\n",
       "    </tr>\n",
       "    <tr>\n",
       "      <th>15</th>\n",
       "      <td>4-Feb-16</td>\n",
       "      <td>722.81</td>\n",
       "      <td>727.00</td>\n",
       "      <td>701.86</td>\n",
       "      <td>708.01</td>\n",
       "      <td>5145855</td>\n",
       "    </tr>\n",
       "    <tr>\n",
       "      <th>16</th>\n",
       "      <td>3-Feb-16</td>\n",
       "      <td>770.22</td>\n",
       "      <td>774.50</td>\n",
       "      <td>720.50</td>\n",
       "      <td>726.95</td>\n",
       "      <td>6162333</td>\n",
       "    </tr>\n",
       "    <tr>\n",
       "      <th>17</th>\n",
       "      <td>2-Feb-16</td>\n",
       "      <td>784.50</td>\n",
       "      <td>789.87</td>\n",
       "      <td>764.65</td>\n",
       "      <td>764.65</td>\n",
       "      <td>6332431</td>\n",
       "    </tr>\n",
       "    <tr>\n",
       "      <th>18</th>\n",
       "      <td>1-Feb-16</td>\n",
       "      <td>750.46</td>\n",
       "      <td>757.86</td>\n",
       "      <td>743.27</td>\n",
       "      <td>752.00</td>\n",
       "      <td>4801816</td>\n",
       "    </tr>\n",
       "  </tbody>\n",
       "</table>\n",
       "</div>"
      ],
      "text/plain": [
       "        ﻿Date    Open    High     Low   Close   Volume\n",
       "0   26-Feb-16  708.58  713.43  700.86  705.07  2239978\n",
       "1   25-Feb-16  700.01  705.98  690.58  705.75  1631855\n",
       "2   24-Feb-16  688.92  700.00  680.78  699.56  1958611\n",
       "3   23-Feb-16  701.45  708.40  693.58  695.85  1999699\n",
       "4   22-Feb-16  707.45  713.24  702.51  706.46  1946067\n",
       "5   19-Feb-16  695.03  703.08  694.05  700.91  1582260\n",
       "6   18-Feb-16  710.00  712.35  696.03  697.35  1859130\n",
       "7   17-Feb-16  699.00  709.75  691.38  708.40  2466808\n",
       "8   16-Feb-16  692.98  698.00  685.05  691.00  2497024\n",
       "9   12-Feb-16  690.26  693.75  678.60  682.40  2129831\n",
       "10  11-Feb-16  675.00  689.35  668.87  683.11  3007223\n",
       "11  10-Feb-16  686.86  701.31  682.13  684.12  2627379\n",
       "12   9-Feb-16  672.32  699.90  668.77  678.11  3604335\n",
       "13   8-Feb-16  667.85  684.03  663.06  682.74  4212541\n",
       "14   5-Feb-16  703.87  703.99  680.15  683.57  5069985\n",
       "15   4-Feb-16  722.81  727.00  701.86  708.01  5145855\n",
       "16   3-Feb-16  770.22  774.50  720.50  726.95  6162333\n",
       "17   2-Feb-16  784.50  789.87  764.65  764.65  6332431\n",
       "18   1-Feb-16  750.46  757.86  743.27  752.00  4801816"
      ]
     },
     "execution_count": 89,
     "metadata": {},
     "output_type": "execute_result"
    }
   ],
   "source": [
    "stocks_data = pd.read_csv('/home/metal-machine/Desktop/algoTrading-20/practical/goog.csv')\n",
    "stocks_data"
   ]
  },
  {
   "cell_type": "code",
   "execution_count": 23,
   "metadata": {
    "collapsed": false
   },
   "outputs": [
    {
     "data": {
      "text/plain": [
       "Date\n",
       "2005-01-03    1211.920044\n",
       "2005-01-04    1202.079956\n",
       "2005-01-05    1188.050049\n",
       "2005-01-06    1183.739990\n",
       "2005-01-07    1187.890015\n",
       "Name: Open, dtype: float64"
      ]
     },
     "execution_count": 23,
     "metadata": {},
     "output_type": "execute_result"
    }
   ],
   "source": [
    "def create_lagged_series(symbol, start_date, end_date, lags=5):\n",
    "    \"\"\"This creates a pandas DataFrame that stores the percentage returns of the \n",
    "    adjusted closing value of a stock obtained from Yahoo Finance, along with \n",
    "    a number of lagged returns from the prior trading days (lags defaults to 5 days).\n",
    "    Trading volume, as well as the Direction from the previous day, are also included.\"\"\"\n",
    "\n",
    "    # Obtain stock information from Yahoo Finance\n",
    "    ts = DataReader(symbol, \"yahoo\", start_date-datetime.timedelta(days=365), end_date)\n",
    "\n",
    "    # Create the new lagged DataFrame\n",
    "    tslag = pd.DataFrame(index=ts.index)\n",
    "    tslag[\"Today\"] = ts[\"Adj Close\"]\n",
    "    tslag[\"Volume\"] = ts[\"Volume\"]\n",
    "\n",
    "    # Create the shifted lag series of prior trading period close values\n",
    "    for i in xrange(0,lags):\n",
    "        tslag[\"Lag%s\" % str(i+1)] = ts[\"Adj Close\"].shift(i+1)\n",
    "\n",
    "    # Create the returns DataFrame\n",
    "    tsret = pd.DataFrame(index=tslag.index)\n",
    "    tsret[\"Volume\"] = tslag[\"Volume\"]\n",
    "    tsret[\"Today\"] = tslag[\"Today\"].pct_change()*100.0\n",
    "\n",
    "    # If any of the values of percentage returns equal zero, set them to\n",
    "    # a small number (stops issues with QDA model in scikit-learn)\n",
    "    for i,x in enumerate(tsret[\"Today\"]):\n",
    "        if (abs(x) < 0.0001):\n",
    "            tsret[\"Today\"][i] = 0.0001\n",
    "\n",
    "    # Create the lagged percentage returns columns\n",
    "    for i in xrange(0,lags):\n",
    "        tsret[\"Lag%s\" % str(i+1)] = tslag[\"Lag%s\" % str(i+1)].pct_change()*100.0\n",
    "\n",
    "    # Create the \"Direction\" column (+1 or -1) indicating an up/down day\n",
    "    tsret[\"Direction\"] = np.sign(tsret[\"Today\"])\n",
    "    tsret = tsret[tsret.index >= start_date]\n",
    "\n",
    "    return tsret"
   ]
  },
  {
   "cell_type": "code",
   "execution_count": 24,
   "metadata": {
    "collapsed": false
   },
   "outputs": [
    {
     "data": {
      "text/plain": [
       "1475.470194031024"
      ]
     },
     "execution_count": 24,
     "metadata": {},
     "output_type": "execute_result"
    }
   ],
   "source": [
    "ts['Open'].mean()"
   ]
  },
  {
   "cell_type": "code",
   "execution_count": 26,
   "metadata": {
    "collapsed": false
   },
   "outputs": [
    {
     "data": {
      "text/plain": [
       "1368.8950195"
      ]
     },
     "execution_count": 26,
     "metadata": {},
     "output_type": "execute_result"
    }
   ],
   "source": [
    "ts['Open'].median()"
   ]
  },
  {
   "cell_type": "code",
   "execution_count": 30,
   "metadata": {
    "collapsed": false
   },
   "outputs": [
    {
     "data": {
      "text/plain": [
       "<matplotlib.axes._subplots.AxesSubplot at 0x7fc2b4187890>"
      ]
     },
     "execution_count": 30,
     "metadata": {},
     "output_type": "execute_result"
    },
    {
     "data": {
      "image/png": "[encoded data removed]",
      "text/plain": [
       "<matplotlib.figure.Figure at 0x7fc2b40e8810>"
      ]
     },
     "metadata": {},
     "output_type": "display_data"
    }
   ],
   "source": [
    "# we are plotting this to find threash_hold value as we can see that in the period 2008-2010 stock is quite low, so \n",
    "# we can reject those values as well, One thing is for sure that one model can't be workable on different stocks\n",
    "import matplotlib\n",
    "%matplotlib inline\n",
    "ts['Open'].plot()"
   ]
  },
  {
   "cell_type": "code",
   "execution_count": 1,
   "metadata": {
    "collapsed": false
   },
   "outputs": [
    {
     "ename": "NameError",
     "evalue": "name 'pd' is not defined",
     "output_type": "error",
     "traceback": [
      "\u001b[0;31m---------------------------------------------------------------------------\u001b[0m",
      "\u001b[0;31mNameError\u001b[0m                                 Traceback (most recent call last)",
      "\u001b[0;32m<ipython-input-1-f23c88b2968a>\u001b[0m in \u001b[0;36m<module>\u001b[0;34m()\u001b[0m\n\u001b[0;32m----> 1\u001b[0;31m \u001b[0mtslag\u001b[0m \u001b[0;34m=\u001b[0m \u001b[0mpd\u001b[0m\u001b[0;34m.\u001b[0m\u001b[0mDataFrame\u001b[0m\u001b[0;34m(\u001b[0m\u001b[0mindex\u001b[0m\u001b[0;34m=\u001b[0m\u001b[0mts\u001b[0m\u001b[0;34m.\u001b[0m\u001b[0mindex\u001b[0m\u001b[0;34m)\u001b[0m \u001b[0;31m# creating index which is mainly important\u001b[0m\u001b[0;34m\u001b[0m\u001b[0m\n\u001b[0m\u001b[1;32m      2\u001b[0m \u001b[0mtslag\u001b[0m\u001b[0;34m[\u001b[0m\u001b[0;34m\"Today\"\u001b[0m\u001b[0;34m]\u001b[0m \u001b[0;34m=\u001b[0m \u001b[0mts\u001b[0m\u001b[0;34m[\u001b[0m\u001b[0;34m\"Adj Close\"\u001b[0m\u001b[0;34m]\u001b[0m \u001b[0;31m# what is adj-close? and why we need lagged series?\u001b[0m\u001b[0;34m\u001b[0m\u001b[0m\n\u001b[1;32m      3\u001b[0m \u001b[0mtslag\u001b[0m\u001b[0;34m[\u001b[0m\u001b[0;34m\"Volume\"\u001b[0m\u001b[0;34m]\u001b[0m \u001b[0;34m=\u001b[0m \u001b[0mts\u001b[0m\u001b[0;34m[\u001b[0m\u001b[0;34m\"Volume\"\u001b[0m\u001b[0;34m]\u001b[0m\u001b[0;34m\u001b[0m\u001b[0m\n",
      "\u001b[0;31mNameError\u001b[0m: name 'pd' is not defined"
     ]
    }
   ],
   "source": [
    "tslag = pd.DataFrame(index=ts.index) # creating index which is mainly important\n",
    "tslag[\"Today\"] = ts[\"Adj Close\"] # what is adj-close? and why we need lagged series?\n",
    "tslag[\"Volume\"] = ts[\"Volume\"]"
   ]
  },
  {
   "cell_type": "code",
   "execution_count": 36,
   "metadata": {
    "collapsed": false
   },
   "outputs": [
    {
     "data": {
      "text/html": [
       "<div>\n",
       "<table border=\"1\" class=\"dataframe\">\n",
       "  <thead>\n",
       "    <tr style=\"text-align: right;\">\n",
       "      <th></th>\n",
       "      <th>Today</th>\n",
       "      <th>Volume</th>\n",
       "    </tr>\n",
       "    <tr>\n",
       "      <th>Date</th>\n",
       "      <th></th>\n",
       "      <th></th>\n",
       "    </tr>\n",
       "  </thead>\n",
       "  <tbody>\n",
       "    <tr>\n",
       "      <th>2005-01-03</th>\n",
       "      <td>1202.079956</td>\n",
       "      <td>1510800000</td>\n",
       "    </tr>\n",
       "    <tr>\n",
       "      <th>2005-01-04</th>\n",
       "      <td>1188.050049</td>\n",
       "      <td>1721000000</td>\n",
       "    </tr>\n",
       "    <tr>\n",
       "      <th>2005-01-05</th>\n",
       "      <td>1183.739990</td>\n",
       "      <td>1738900000</td>\n",
       "    </tr>\n",
       "    <tr>\n",
       "      <th>2005-01-06</th>\n",
       "      <td>1187.890015</td>\n",
       "      <td>1569100000</td>\n",
       "    </tr>\n",
       "    <tr>\n",
       "      <th>2005-01-07</th>\n",
       "      <td>1186.189941</td>\n",
       "      <td>1477900000</td>\n",
       "    </tr>\n",
       "  </tbody>\n",
       "</table>\n",
       "</div>"
      ],
      "text/plain": [
       "                  Today      Volume\n",
       "Date                               \n",
       "2005-01-03  1202.079956  1510800000\n",
       "2005-01-04  1188.050049  1721000000\n",
       "2005-01-05  1183.739990  1738900000\n",
       "2005-01-06  1187.890015  1569100000\n",
       "2005-01-07  1186.189941  1477900000"
      ]
     },
     "execution_count": 36,
     "metadata": {},
     "output_type": "execute_result"
    }
   ],
   "source": [
    "tslag.head()"
   ]
  },
  {
   "cell_type": "code",
   "execution_count": 37,
   "metadata": {
    "collapsed": true
   },
   "outputs": [],
   "source": [
    "lags = 5\n",
    "for i in xrange(0,lags):\n",
    "        tslag[\"Lag%s\" % str(i+1)] = ts[\"Adj Close\"].shift(i+1)\n",
    "# eh lags series kyon create kittian and sirf 5 e kyon Create kittian??\n"
   ]
  },
  {
   "cell_type": "code",
   "execution_count": 62,
   "metadata": {
    "collapsed": false
   },
   "outputs": [],
   "source": [
    "# Create the returns DataFrame\n",
    "tsret = pd.DataFrame(index=tslag.index)\n",
    "tsret[\"Volume\"] = tslag[\"Volume\"]\n",
    "tsret[\"Today\"] = tslag[\"Today\"].pct_change()*100.0\n"
   ]
  },
  {
   "cell_type": "code",
   "execution_count": 63,
   "metadata": {
    "collapsed": false
   },
   "outputs": [
    {
     "data": {
      "text/html": [
       "<div>\n",
       "<table border=\"1\" class=\"dataframe\">\n",
       "  <thead>\n",
       "    <tr style=\"text-align: right;\">\n",
       "      <th></th>\n",
       "      <th>Volume</th>\n",
       "      <th>Today</th>\n",
       "    </tr>\n",
       "    <tr>\n",
       "      <th>Date</th>\n",
       "      <th></th>\n",
       "      <th></th>\n",
       "    </tr>\n",
       "  </thead>\n",
       "  <tbody>\n",
       "    <tr>\n",
       "      <th>2005-01-03</th>\n",
       "      <td>1510800000</td>\n",
       "      <td>NaN</td>\n",
       "    </tr>\n",
       "    <tr>\n",
       "      <th>2005-01-04</th>\n",
       "      <td>1721000000</td>\n",
       "      <td>-1.167136</td>\n",
       "    </tr>\n",
       "    <tr>\n",
       "      <th>2005-01-05</th>\n",
       "      <td>1738900000</td>\n",
       "      <td>-0.362784</td>\n",
       "    </tr>\n",
       "    <tr>\n",
       "      <th>2005-01-06</th>\n",
       "      <td>1569100000</td>\n",
       "      <td>0.350586</td>\n",
       "    </tr>\n",
       "    <tr>\n",
       "      <th>2005-01-07</th>\n",
       "      <td>1477900000</td>\n",
       "      <td>-0.143117</td>\n",
       "    </tr>\n",
       "  </tbody>\n",
       "</table>\n",
       "</div>"
      ],
      "text/plain": [
       "                Volume     Today\n",
       "Date                            \n",
       "2005-01-03  1510800000       NaN\n",
       "2005-01-04  1721000000 -1.167136\n",
       "2005-01-05  1738900000 -0.362784\n",
       "2005-01-06  1569100000  0.350586\n",
       "2005-01-07  1477900000 -0.143117"
      ]
     },
     "execution_count": 63,
     "metadata": {},
     "output_type": "execute_result"
    }
   ],
   "source": [
    "tsret.head()"
   ]
  },
  {
   "cell_type": "code",
   "execution_count": 82,
   "metadata": {
    "collapsed": false
   },
   "outputs": [],
   "source": [
    "# i is used as index and x as value to dictionary\n",
    "\n",
    "for i,x in enumerate(tsret[\"Today\"]):\n",
    "    if (abs(x) < 0.0001):\n",
    "        tsret[\"Today\"][i] = 0.0001"
   ]
  },
  {
   "cell_type": "code",
   "execution_count": 83,
   "metadata": {
    "collapsed": false
   },
   "outputs": [],
   "source": [
    "for i in xrange(0,lags):\n",
    "    tsret[\"Lag%s\" % str(i+1)] = tslag[\"Lag%s\" % str(i+1)].pct_change()*100.0"
   ]
  },
  {
   "cell_type": "code",
   "execution_count": 84,
   "metadata": {
    "collapsed": false
   },
   "outputs": [
    {
     "data": {
      "text/html": [
       "<div>\n",
       "<table border=\"1\" class=\"dataframe\">\n",
       "  <thead>\n",
       "    <tr style=\"text-align: right;\">\n",
       "      <th></th>\n",
       "      <th>Volume</th>\n",
       "      <th>Today</th>\n",
       "      <th>Lag1</th>\n",
       "      <th>Lag2</th>\n",
       "      <th>Lag3</th>\n",
       "      <th>Lag4</th>\n",
       "      <th>Lag5</th>\n",
       "      <th>Direction</th>\n",
       "    </tr>\n",
       "    <tr>\n",
       "      <th>Date</th>\n",
       "      <th></th>\n",
       "      <th></th>\n",
       "      <th></th>\n",
       "      <th></th>\n",
       "      <th></th>\n",
       "      <th></th>\n",
       "      <th></th>\n",
       "      <th></th>\n",
       "    </tr>\n",
       "  </thead>\n",
       "  <tbody>\n",
       "    <tr>\n",
       "      <th>2005-01-03</th>\n",
       "      <td>NaN</td>\n",
       "      <td>NaN</td>\n",
       "      <td>NaN</td>\n",
       "      <td>NaN</td>\n",
       "      <td>NaN</td>\n",
       "      <td>NaN</td>\n",
       "      <td>NaN</td>\n",
       "      <td>NaN</td>\n",
       "    </tr>\n",
       "    <tr>\n",
       "      <th>2005-01-04</th>\n",
       "      <td>NaN</td>\n",
       "      <td>NaN</td>\n",
       "      <td>NaN</td>\n",
       "      <td>NaN</td>\n",
       "      <td>NaN</td>\n",
       "      <td>NaN</td>\n",
       "      <td>NaN</td>\n",
       "      <td>NaN</td>\n",
       "    </tr>\n",
       "    <tr>\n",
       "      <th>2005-01-05</th>\n",
       "      <td>NaN</td>\n",
       "      <td>NaN</td>\n",
       "      <td>-1.167136</td>\n",
       "      <td>NaN</td>\n",
       "      <td>NaN</td>\n",
       "      <td>NaN</td>\n",
       "      <td>NaN</td>\n",
       "      <td>NaN</td>\n",
       "    </tr>\n",
       "    <tr>\n",
       "      <th>2005-01-06</th>\n",
       "      <td>NaN</td>\n",
       "      <td>NaN</td>\n",
       "      <td>-0.362784</td>\n",
       "      <td>-1.167136</td>\n",
       "      <td>NaN</td>\n",
       "      <td>NaN</td>\n",
       "      <td>NaN</td>\n",
       "      <td>NaN</td>\n",
       "    </tr>\n",
       "    <tr>\n",
       "      <th>2005-01-07</th>\n",
       "      <td>NaN</td>\n",
       "      <td>NaN</td>\n",
       "      <td>0.350586</td>\n",
       "      <td>-0.362784</td>\n",
       "      <td>-1.167136</td>\n",
       "      <td>NaN</td>\n",
       "      <td>NaN</td>\n",
       "      <td>NaN</td>\n",
       "    </tr>\n",
       "  </tbody>\n",
       "</table>\n",
       "</div>"
      ],
      "text/plain": [
       "            Volume  Today      Lag1      Lag2      Lag3  Lag4  Lag5  Direction\n",
       "Date                                                                          \n",
       "2005-01-03     NaN    NaN       NaN       NaN       NaN   NaN   NaN        NaN\n",
       "2005-01-04     NaN    NaN       NaN       NaN       NaN   NaN   NaN        NaN\n",
       "2005-01-05     NaN    NaN -1.167136       NaN       NaN   NaN   NaN        NaN\n",
       "2005-01-06     NaN    NaN -0.362784 -1.167136       NaN   NaN   NaN        NaN\n",
       "2005-01-07     NaN    NaN  0.350586 -0.362784 -1.167136   NaN   NaN        NaN"
      ]
     },
     "execution_count": 84,
     "metadata": {},
     "output_type": "execute_result"
    }
   ],
   "source": [
    "tsret.head()"
   ]
  },
  {
   "cell_type": "code",
   "execution_count": 85,
   "metadata": {
    "collapsed": false
   },
   "outputs": [
    {
     "data": {
      "text/html": [
       "<div>\n",
       "<table border=\"1\" class=\"dataframe\">\n",
       "  <thead>\n",
       "    <tr style=\"text-align: right;\">\n",
       "      <th></th>\n",
       "      <th>Volume</th>\n",
       "      <th>Today</th>\n",
       "      <th>Lag1</th>\n",
       "      <th>Lag2</th>\n",
       "      <th>Lag3</th>\n",
       "      <th>Lag4</th>\n",
       "      <th>Lag5</th>\n",
       "      <th>Direction</th>\n",
       "    </tr>\n",
       "    <tr>\n",
       "      <th>Date</th>\n",
       "      <th></th>\n",
       "      <th></th>\n",
       "      <th></th>\n",
       "      <th></th>\n",
       "      <th></th>\n",
       "      <th></th>\n",
       "      <th></th>\n",
       "      <th></th>\n",
       "    </tr>\n",
       "  </thead>\n",
       "  <tbody>\n",
       "    <tr>\n",
       "      <th>2005-01-03</th>\n",
       "      <td>NaN</td>\n",
       "      <td>NaN</td>\n",
       "      <td>NaN</td>\n",
       "      <td>NaN</td>\n",
       "      <td>NaN</td>\n",
       "      <td>NaN</td>\n",
       "      <td>NaN</td>\n",
       "      <td>NaN</td>\n",
       "    </tr>\n",
       "    <tr>\n",
       "      <th>2005-01-04</th>\n",
       "      <td>NaN</td>\n",
       "      <td>NaN</td>\n",
       "      <td>NaN</td>\n",
       "      <td>NaN</td>\n",
       "      <td>NaN</td>\n",
       "      <td>NaN</td>\n",
       "      <td>NaN</td>\n",
       "      <td>NaN</td>\n",
       "    </tr>\n",
       "    <tr>\n",
       "      <th>2005-01-05</th>\n",
       "      <td>NaN</td>\n",
       "      <td>NaN</td>\n",
       "      <td>-1.167136</td>\n",
       "      <td>NaN</td>\n",
       "      <td>NaN</td>\n",
       "      <td>NaN</td>\n",
       "      <td>NaN</td>\n",
       "      <td>NaN</td>\n",
       "    </tr>\n",
       "    <tr>\n",
       "      <th>2005-01-06</th>\n",
       "      <td>NaN</td>\n",
       "      <td>NaN</td>\n",
       "      <td>-0.362784</td>\n",
       "      <td>-1.167136</td>\n",
       "      <td>NaN</td>\n",
       "      <td>NaN</td>\n",
       "      <td>NaN</td>\n",
       "      <td>NaN</td>\n",
       "    </tr>\n",
       "    <tr>\n",
       "      <th>2005-01-07</th>\n",
       "      <td>NaN</td>\n",
       "      <td>NaN</td>\n",
       "      <td>0.350586</td>\n",
       "      <td>-0.362784</td>\n",
       "      <td>-1.167136</td>\n",
       "      <td>NaN</td>\n",
       "      <td>NaN</td>\n",
       "      <td>NaN</td>\n",
       "    </tr>\n",
       "  </tbody>\n",
       "</table>\n",
       "</div>"
      ],
      "text/plain": [
       "            Volume  Today      Lag1      Lag2      Lag3  Lag4  Lag5  Direction\n",
       "Date                                                                          \n",
       "2005-01-03     NaN    NaN       NaN       NaN       NaN   NaN   NaN        NaN\n",
       "2005-01-04     NaN    NaN       NaN       NaN       NaN   NaN   NaN        NaN\n",
       "2005-01-05     NaN    NaN -1.167136       NaN       NaN   NaN   NaN        NaN\n",
       "2005-01-06     NaN    NaN -0.362784 -1.167136       NaN   NaN   NaN        NaN\n",
       "2005-01-07     NaN    NaN  0.350586 -0.362784 -1.167136   NaN   NaN        NaN"
      ]
     },
     "execution_count": 85,
     "metadata": {},
     "output_type": "execute_result"
    }
   ],
   "source": [
    "tsret[\"Direction\"] = np.sign(tsret[\"Today\"]) # we are providing \"Today\" column to find direction, np.sign-kiven kamm\n",
    "# kardi hai eh vi dekhna hai.. dhyaan naaal....\n",
    "tsret.head()"
   ]
  },
  {
   "cell_type": "code",
   "execution_count": null,
   "metadata": {
    "collapsed": true
   },
   "outputs": [],
   "source": []
  }
 ],
 "metadata": {
  "anaconda-cloud": {},
  "kernelspec": {
   "display_name": "Python [conda root]",
   "language": "python",
   "name": "conda-root-py"
  },
  "language_info": {
   "codemirror_mode": {
    "name": "ipython",
    "version": 2
   },
   "file_extension": ".py",
   "mimetype": "text/x-python",
   "name": "python",
   "nbconvert_exporter": "python",
   "pygments_lexer": "ipython2",
   "version": "2.7.12"
  }
 },
 "nbformat": 4,
 "nbformat_minor": 1
}
