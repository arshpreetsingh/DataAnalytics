{
 "cells": [
  {
   "cell_type": "markdown",
   "metadata": {},
   "source": [
    "### We are going to Predict wheater Tomorrow's close Price is going to lower or higher than Today's Close Price\n",
    "\n",
    "### After that based on Such Results We will develop a Trading Strategy and implement it\n"
   ]
  },
  {
   "cell_type": "code",
   "execution_count": 364,
   "metadata": {
    "collapsed": true
   },
   "outputs": [],
   "source": [
    "import pandas as pd\n",
    "import numpy as np\n",
    "# moving average in pandas http://chrisalbon.com/python/pandas_moving_average.html"
   ]
  },
  {
   "cell_type": "code",
   "execution_count": 4,
   "metadata": {
    "collapsed": false
   },
   "outputs": [],
   "source": [
    "# Problem Defination : \n",
    "\n",
    "#Our Aim is to predict if 'Future Daily-Returns' of S&P 500 are going to be +ve or -ve. This is\n",
    "#binary classification.\n",
    "\n",
    "# What is S&P 500? - Backtesting - Benchmark\n",
    "# S&p is market index which contains list of top 500 companies having stocks in NYSE or or NASDAQ\n",
    "# What is Binary Classification?"
   ]
  },
  {
   "cell_type": "code",
   "execution_count": 5,
   "metadata": {
    "collapsed": true
   },
   "outputs": [],
   "source": [
    "# Daily Return: \n",
    "\n",
    "# it is just the way that how we want to look for Value in the system. We are using following formula:\n",
    "\n",
    "#Returni=AdjClosei–AdjClosei−1/AdjClosei−1\n",
    "\n",
    "#Return at ith day is equal to return adjacent-close at ith day---adjacentclose at i-1th day // adjacentclose at i-1th day\n",
    "\n",
    "# in other words it's just percent-change/ rate of change w.r.t to time-- What that is called in physics? :D\n",
    "\n",
    "## What is Adjacent Close Price?\n",
    "## Close price of the day modified by taking account into dividends. \n",
    "## What are dividends?\n",
    "## How Adjacent-close price is calculated? \n",
    "\n"
   ]
  },
  {
   "cell_type": "code",
   "execution_count": 49,
   "metadata": {
    "collapsed": false
   },
   "outputs": [
    {
     "data": {
      "text/plain": [
       "'Adj. Close'"
      ]
     },
     "execution_count": 49,
     "metadata": {},
     "output_type": "execute_result"
    }
   ],
   "source": [
    "df = pd.read_csv('WIKI-AAPL.csv')\n",
    "df.columns.values[-2]"
   ]
  },
  {
   "cell_type": "code",
   "execution_count": 75,
   "metadata": {
    "collapsed": false
   },
   "outputs": [],
   "source": [
    "df['returns']=df['Adj. Close'].pct_change()"
   ]
  },
  {
   "cell_type": "code",
   "execution_count": 127,
   "metadata": {
    "collapsed": false
   },
   "outputs": [],
   "source": [
    "#pd.rolling_mean(df['returns'],4)\n",
    "\n",
    "df['rolling'] = df['returns'].rolling(window = 4,center=False).mean()\n"
   ]
  },
  {
   "cell_type": "code",
   "execution_count": 217,
   "metadata": {
    "collapsed": false
   },
   "outputs": [
    {
     "data": {
      "text/html": [
       "<div>\n",
       "<table border=\"1\" class=\"dataframe\">\n",
       "  <thead>\n",
       "    <tr>\n",
       "      <th>Adj. Close</th>\n",
       "      <th>121.630000</th>\n",
       "      <th>121.719000</th>\n",
       "      <th>121.940000</th>\n",
       "      <th>121.850000</th>\n",
       "      <th>119.970800</th>\n",
       "      <th>120.080000</th>\n",
       "      <th>120.000000</th>\n",
       "      <th>119.780000</th>\n",
       "      <th>119.990000</th>\n",
       "      <th>119.975000</th>\n",
       "      <th>...</th>\n",
       "      <th>0.528477</th>\n",
       "      <th>0.483817</th>\n",
       "      <th>0.459701</th>\n",
       "      <th>0.441093</th>\n",
       "      <th>0.420549</th>\n",
       "      <th>0.396432</th>\n",
       "      <th>0.385119</th>\n",
       "      <th>0.375889</th>\n",
       "      <th>0.405662</th>\n",
       "      <th>0.427992</th>\n",
       "    </tr>\n",
       "    <tr>\n",
       "      <th>returns</th>\n",
       "      <th>NaN</th>\n",
       "      <th>0.000732</th>\n",
       "      <th>0.001816</th>\n",
       "      <th>-0.000738</th>\n",
       "      <th>-0.015422</th>\n",
       "      <th>0.000910</th>\n",
       "      <th>-0.000666</th>\n",
       "      <th>-0.001833</th>\n",
       "      <th>0.001753</th>\n",
       "      <th>-0.000125</th>\n",
       "      <th>...</th>\n",
       "      <th>-0.013889</th>\n",
       "      <th>-0.084507</th>\n",
       "      <th>-0.049846</th>\n",
       "      <th>-0.040479</th>\n",
       "      <th>-0.046574</th>\n",
       "      <th>-0.057345</th>\n",
       "      <th>-0.028539</th>\n",
       "      <th>-0.023966</th>\n",
       "      <th>0.079208</th>\n",
       "      <th>0.055046</th>\n",
       "    </tr>\n",
       "    <tr>\n",
       "      <th>rolling</th>\n",
       "      <th>NaN</th>\n",
       "      <th>NaN</th>\n",
       "      <th>NaN</th>\n",
       "      <th>NaN</th>\n",
       "      <th>-0.003403</th>\n",
       "      <th>-0.003359</th>\n",
       "      <th>-0.003979</th>\n",
       "      <th>-0.004253</th>\n",
       "      <th>0.000041</th>\n",
       "      <th>-0.000218</th>\n",
       "      <th>...</th>\n",
       "      <th>0.007363</th>\n",
       "      <th>-0.011083</th>\n",
       "      <th>-0.030796</th>\n",
       "      <th>-0.047180</th>\n",
       "      <th>-0.055352</th>\n",
       "      <th>-0.048561</th>\n",
       "      <th>-0.043235</th>\n",
       "      <th>-0.039106</th>\n",
       "      <th>-0.007661</th>\n",
       "      <th>0.020437</th>\n",
       "    </tr>\n",
       "    <tr>\n",
       "      <th>time_lagged</th>\n",
       "      <th>-0.310000</th>\n",
       "      <th>-0.131000</th>\n",
       "      <th>1.969200</th>\n",
       "      <th>1.770000</th>\n",
       "      <th>-0.029200</th>\n",
       "      <th>0.300000</th>\n",
       "      <th>0.010000</th>\n",
       "      <th>-0.195000</th>\n",
       "      <th>0.970000</th>\n",
       "      <th>0.725000</th>\n",
       "      <th>...</th>\n",
       "      <th>0.068776</th>\n",
       "      <th>0.042725</th>\n",
       "      <th>0.039152</th>\n",
       "      <th>0.044660</th>\n",
       "      <th>0.035430</th>\n",
       "      <th>0.020544</th>\n",
       "      <th>-0.020544</th>\n",
       "      <th>-0.052103</th>\n",
       "      <th>NaN</th>\n",
       "      <th>NaN</th>\n",
       "    </tr>\n",
       "    <tr>\n",
       "      <th>multiple_day</th>\n",
       "      <th>NaN</th>\n",
       "      <th>NaN</th>\n",
       "      <th>NaN</th>\n",
       "      <th>0.001809</th>\n",
       "      <th>-0.014363</th>\n",
       "      <th>-0.015253</th>\n",
       "      <th>-0.015183</th>\n",
       "      <th>-0.001590</th>\n",
       "      <th>-0.000750</th>\n",
       "      <th>-0.000208</th>\n",
       "      <th>...</th>\n",
       "      <th>0.040141</th>\n",
       "      <th>-0.074601</th>\n",
       "      <th>-0.142222</th>\n",
       "      <th>-0.165352</th>\n",
       "      <th>-0.130769</th>\n",
       "      <th>-0.137630</th>\n",
       "      <th>-0.126898</th>\n",
       "      <th>-0.106195</th>\n",
       "      <th>0.023282</th>\n",
       "      <th>0.111326</th>\n",
       "    </tr>\n",
       "  </thead>\n",
       "  <tbody>\n",
       "  </tbody>\n",
       "</table>\n",
       "<p>0 rows × 9111 columns</p>\n",
       "</div>"
      ],
      "text/plain": [
       "Empty DataFrame\n",
       "Columns: [(121.63, nan, nan, -0.31, nan), (121.719, 0.000731727369892, nan, -0.131, nan), (121.94, 0.00181565737477, nan, 1.9692, nan), (121.85, -0.000738067902247, nan, 1.77, 0.00180876428513), (119.9708, -0.0154222404596, -0.00340323090429, -0.0292, -0.0143625892424), (120.08, 0.000910221487229, -0.00335860737496, 0.3, -0.0152534033131), (120.0, -0.000666222518321, -0.00397907734823, 0.01, -0.0151826015593), (119.78, -0.00183333333333, -0.004252893706, -0.195, -0.00159038699417), (119.99, 0.00175321422608, 4.09699654138e-05, 0.97, -0.000749500333111), (119.975, -0.000125010417535, -0.000217838010777, 0.725, -0.000208333333333), (119.02, -0.00795999166493, -0.00204128029743, -0.73, -0.00634496577058), (119.25, 0.00193244832801, -0.00109983488209, 0.14, -0.00616718059838), (119.75, 0.0041928721174, -0.000489920409263, 0.77, -0.0018753907064), (119.11, -0.00534446764092, -0.00179478471511, 1.2, 0.0007561754327), (118.98, -0.00109142809168, -7.76438217965e-05, 2.35, -0.0022641509434), (117.91, -0.00899310808539, -0.00280903292515, 1.89, -0.0153653444676), (116.63, -0.0108557374269, -0.00657118531121, 0.57, -0.020821089749), (116.02, -0.00523021521049, -0.0065426222036, 0.17, -0.0248781307783), (116.06, 0.000344768143424, -0.00618357314483, -0.67, -0.0156899329997), (115.85, -0.00180940892642, -0.00438764835508, -0.91, -0.0066878161708), (116.73, 0.0075960293483, 0.000225293338702, -0.52, 0.00611963454577), (116.76, 0.000257003341043, 0.00159709797659, 0.24, 0.00603136308806), (117.25, 0.00419664268585, 0.00256006661219, 1.03, 0.012084592145), (116.52, -0.00622601279318, 0.0014559156455, -0.54, -0.0017990233873), (116.22, -0.00257466529351, -0.00108675801495, -0.71, -0.00462487153135), (117.06, 0.0072276716572, 0.000655909064091, 0.425, -0.00162046908316), (116.93, -0.0011105416026, -0.000670887008021, 0.98, 0.00351870923447), (116.635, -0.00252287693492, 0.000254896956544, 0.815, 0.0035708139735), (115.95, -0.00587302267758, -0.000569692389474, 0.76, -0.00948231676064), (115.82, -0.00112117291936, -0.00265690353362, 0.625, -0.00949285897546), (115.19, -0.00543947504749, -0.00373913689484, 1.89, -0.0123890770352), (115.195, 4.34065457071e-05, -0.00309756602468, 1.34, -0.00651142733937), (113.3, -0.0164503667694, -0.00574190204763, 1.2008, -0.0217579001899), (113.855, 0.00489849955869, -0.00423698392812, 2.825, -0.0115895477038), (112.0992, -0.0154213692855, -0.00673245748762, 2.1792, -0.0268744303138), (111.03, -0.00953798064571, -0.00912780428548, 1.93, -0.0200353045013), (109.92, -0.00999729802756, -0.00751453710002, 0.06, -0.0345615036669), (109.1, -0.00745997088792, -0.0106041547117, -0.365, -0.0267548742542), (109.86, 0.00696608615949, -0.00500729085043, -0.74, -0.0105376925155), (109.465, -0.00359548516293, -0.00352166697973, -1.98, -0.00413937409025), (110.6, 0.0103686109715, 0.00156981027004, -0.97, 0.0137488542621), (111.445, 0.00764014466546, 0.00534483915839, -0.345, 0.0144274531222), (111.57, 0.00112162950334, 0.00388372499435, 0.345, 0.0192298908327), (111.79, 0.00197185623375, 0.00527556034353, -0.00999999999999, 0.0107594936709), (111.225, -0.00505411933089, 0.00141987776792, -0.525, -0.00197406792588), (111.8, 0.00516970105642, 0.000802266865656, 1.76, 0.00206148606256), (111.75, -0.000447227191413, 0.000410052691968, 1.8, -0.000357813757939), (110.04, -0.0153020134228, -0.00390841472218, 0.0, -0.0106540795684), (109.95, -0.000817884405671, -0.00284935599087, 2.84, -0.0165474060823), (110.04, 0.000818553888131, -0.00393714278294, 4.3, -0.0153020134228), (107.11, -0.0266266812068, -0.0104820062868, -1.32, -0.0266266812068), (105.74, -0.012790589114, -0.00985415020959, -2.02, -0.0382901318781), (108.43, 0.0254397578967, -0.00328973963399, -2.45, -0.014631043257), (107.76, -0.00617910172461, -0.00503915353718, -3.3, 0.00606852768182), (110.88, 0.0289532293987, 0.0088558241142, 0.47, 0.0486097976168), (111.06, 0.00162337662338, 0.0124593155485, 2.22, 0.0242552799041), (110.41, -0.00585269223843, 0.00463620301475, 0.58, 0.0245916852264), (108.84, -0.0142197264741, 0.00262604682739, -2.17385597826, -0.0183982683983), (109.83, 0.00909592061742, -0.00233828036792, -1.06447554348, -0.0110750945435), (111.013855978, 0.0107789855072, -4.93781469557e-05, -1.93993206522, 0.00546921454814), (110.894475543, -0.00107536517607, 0.00114495361863, -2.20853804348, 0.0188761075292), (112.953788043, 0.0185700188391, 0.00934238994693, -0.96499184782, 0.0284420289855), (113.103013587, 0.00132112031004, 0.00739868987009, -1.89019021739, 0.0188188905816), (113.918779891, 0.00721259565478, 0.00650709240698, -3.7206902174, 0.0272719117251), (114.993203804, 0.00943149069956, 0.00913380637588, -2.02867152174, 0.0180553109036), (117.639470109, 0.0230123713124, 0.0102443944942, 1.64148097827, 0.0401090685197), (117.021875326, -0.00524989429177, 0.00860164084375, 0.56626119566, 0.0272395423981), (115.99798913, -0.00874952817844, 0.00461110988544, -0.5173152174, 0.00873778008472), (116.45561413, 0.00394511149228, 0.00323951508362, -0.40788315218, -0.0100634249472), (116.515304348, 0.000512557662812, -0.00238543832878, -0.4277798913, -0.0043288571205), (116.863497283, 0.00298838797812, -0.000325867761308, -0.18901902174, 0.00746140651806), (116.943084239, 0.000681024942524, 0.00203177051893, 0.56705706522, 0.00418588757906), (117.052516304, 0.000935772011932, 0.00127943564885, 0.31834782609, 0.00461065573769), (116.376027174, -0.00577936426997, -0.00029354483435, 0.62674728261, -0.00417127777309), (116.734168478, 0.00307744913662, -0.000271279544724, 1.27339130435, -0.00178647384092), (115.749279891, -0.00843702062386, -0.00255079093632, 2.27817663043, -0.0111337752848), (115.460777174, -0.00249247958744, -0.00340785383616, 2.15879619565, -0.00786459223799), (113.471103261, -0.0172324659659, -0.00627112926013, 1.00478532609, -0.0279529572183), (113.301980978, -0.00149044362617, -0.00741310245083, 0.8854048913, -0.0211431027073), (112.466317935, -0.00737553779965, -0.00714773174478, 0.52726358695, -0.0259348612786), (112.416576087, -0.000442282175974, -0.00663518239191, 0.0298451087, -0.00929335437486), (111.939054348, -0.00424778761062, -0.0033890128031, 0.34819293479, -0.0120291509351), (112.386730978, 0.00399928901524, -0.00201657964275, -0.97494021739, -0.00070765148163), (111.590861413, -0.00708152606889, -0.00194307671006, -0.91525, -0.00734513274342), (113.361671196, 0.015868770616, 0.00213468648794, 1.06447554348, 0.0127088517596), (112.506111413, -0.00754716981133, 0.00130984093777, 0.37803804347, 0.00106222891031), (112.297195652, -0.00185692811036, -0.000154213343635, -1.73101630435, 0.00632967816706), (112.12807337, -0.00150602409631, 0.00123966214951, -0.83566304347, -0.0108819657744), (114.028211957, 0.0169461449738, 0.00150900573894, 1.04457880435, 0.0135290476612), (112.963736413, -0.00933519455594, 0.00106199955279, -0.0298451087, 0.00593550673282), (112.983633152, 0.000176133861731, 0.00157026504581, -1.34302989131, 0.00763020140175), (112.993581522, 8.80514220729e-05, 0.00196878392541, -1.97972554348, -0.0090734601291), (114.326663043, 0.0117978517345, 0.000681710615583, 3.07325032609, 0.0120651695289), (114.973307065, 0.00565610859729, 0.00442953640389, 7.40238282609, 0.0176102844062), (111.253412717, -0.0323544172363, -0.00370310137063, 6.35780402174, -0.015400598697), (107.570924239, -0.0331000046499, -0.0120001153886, 4.97338891304, -0.0590915419422), (104.895608696, -0.0248702478147, -0.0211671402759, -0.07958695652, -0.0876525049754), (102.597535326, -0.0219081942336, -0.0280582159836, -5.2236898913, -0.0778032527711), (104.975195652, 0.0231746339571, -0.0141759531853, -2.14884782609, -0.0241303921605), (107.821225217, 0.0271114480667, 0.000876909993878, 0.6474398913, 0.0278907435508), ...]\n",
       "Index: []\n",
       "\n",
       "[0 rows x 9111 columns]"
      ]
     },
     "execution_count": 217,
     "metadata": {},
     "output_type": "execute_result"
    }
   ],
   "source": [
    "#pd.rolling_mean(df['returns'],0) # what is the meaning o rolling mean?\n",
    "df[['returns','rolling']].head()\n",
    "#Multiple Day Returns: percentage difference of Adjusted Close Price of i-th day  compared to (i-delta)-th day. \n",
    "#Example: 3-days Return is the percentage difference of Adjusted Close Price of today compared to the one of 3 days ago\n",
    "df['returns']=df['Adj. Close'].pct_change()\n",
    "df['multiple_day']=df['Adj. Close'].pct_change(3)\n",
    "# we are shifting for 2 so we are calculating for last 'two' days\n",
    "df['time_lagged'] = df['Adj. Close']-df['Adj. Close'].shift(-2)\n",
    "\n",
    "new_df = pd.DataFrame(columns=[df['Adj. Close'],df['returns'],df['rolling'],df['time_lagged'],df['multiple_day']])\n",
    "new_df # we need horizontly , columns are only for names"
   ]
  },
  {
   "cell_type": "code",
   "execution_count": 230,
   "metadata": {
    "collapsed": false
   },
   "outputs": [
    {
     "name": "stderr",
     "output_type": "stream",
     "text": [
      "/home/metal-machine/anaconda2/lib/python2.7/site-packages/ipykernel/__main__.py:1: SettingWithCopyWarning: \n",
      "A value is trying to be set on a copy of a slice from a DataFrame\n",
      "\n",
      "See the caveats in the documentation: http://pandas.pydata.org/pandas-docs/stable/indexing.html#indexing-view-versus-copy\n",
      "  if __name__ == '__main__':\n",
      "/home/metal-machine/anaconda2/lib/python2.7/site-packages/ipykernel/__main__.py:2: SettingWithCopyWarning: \n",
      "A value is trying to be set on a copy of a slice from a DataFrame\n",
      "\n",
      "See the caveats in the documentation: http://pandas.pydata.org/pandas-docs/stable/indexing.html#indexing-view-versus-copy\n",
      "  from ipykernel import kernelapp as app\n"
     ]
    },
    {
     "data": {
      "text/html": [
       "<div>\n",
       "<table border=\"1\" class=\"dataframe\">\n",
       "  <thead>\n",
       "    <tr style=\"text-align: right;\">\n",
       "      <th></th>\n",
       "      <th>close_value</th>\n",
       "      <th>daily-returns</th>\n",
       "      <th>multiple_day</th>\n",
       "      <th>rolling</th>\n",
       "      <th>time-lagged</th>\n",
       "      <th>updown</th>\n",
       "    </tr>\n",
       "  </thead>\n",
       "  <tbody>\n",
       "    <tr>\n",
       "      <th>0</th>\n",
       "      <td>121.6300</td>\n",
       "      <td>NaN</td>\n",
       "      <td>NaN</td>\n",
       "      <td>NaN</td>\n",
       "      <td>-0.3100</td>\n",
       "      <td>NaN</td>\n",
       "    </tr>\n",
       "    <tr>\n",
       "      <th>1</th>\n",
       "      <td>121.7190</td>\n",
       "      <td>0.000732</td>\n",
       "      <td>NaN</td>\n",
       "      <td>NaN</td>\n",
       "      <td>-0.1310</td>\n",
       "      <td>up</td>\n",
       "    </tr>\n",
       "    <tr>\n",
       "      <th>2</th>\n",
       "      <td>121.9400</td>\n",
       "      <td>0.001816</td>\n",
       "      <td>NaN</td>\n",
       "      <td>NaN</td>\n",
       "      <td>1.9692</td>\n",
       "      <td>up</td>\n",
       "    </tr>\n",
       "    <tr>\n",
       "      <th>3</th>\n",
       "      <td>121.8500</td>\n",
       "      <td>-0.000738</td>\n",
       "      <td>0.001809</td>\n",
       "      <td>NaN</td>\n",
       "      <td>1.7700</td>\n",
       "      <td>down</td>\n",
       "    </tr>\n",
       "    <tr>\n",
       "      <th>4</th>\n",
       "      <td>119.9708</td>\n",
       "      <td>-0.015422</td>\n",
       "      <td>-0.014363</td>\n",
       "      <td>-0.003403</td>\n",
       "      <td>-0.0292</td>\n",
       "      <td>down</td>\n",
       "    </tr>\n",
       "  </tbody>\n",
       "</table>\n",
       "</div>"
      ],
      "text/plain": [
       "   close_value  daily-returns  multiple_day   rolling  time-lagged updown\n",
       "0     121.6300            NaN           NaN       NaN      -0.3100    NaN\n",
       "1     121.7190       0.000732           NaN       NaN      -0.1310     up\n",
       "2     121.9400       0.001816           NaN       NaN       1.9692     up\n",
       "3     121.8500      -0.000738      0.001809       NaN       1.7700   down\n",
       "4     119.9708      -0.015422     -0.014363 -0.003403      -0.0292   down"
      ]
     },
     "execution_count": 230,
     "metadata": {},
     "output_type": "execute_result"
    }
   ],
   "source": [
    "df.updown[df['returns']>=0]='up'\n",
    "df.updown[df['returns']<0]='down'\n",
    "seris_dict ={'close_value':df['Adj. Close'],'daily-returns':df['returns'],'rolling':df['rolling'],'time-lagged':df['time_lagged'],'multiple_day':df['multiple_day'],'updown':df['updown']}\n",
    "new_df = pd.DataFrame(seris_dict)\n",
    "new_df.head()"
   ]
  },
  {
   "cell_type": "code",
   "execution_count": 231,
   "metadata": {
    "collapsed": false
   },
   "outputs": [],
   "source": [
    "from sklearn import preprocessing\n",
    "le = preprocessing.LabelEncoder()\n",
    "\n",
    "df['encoding']=le.fit(df['updown']).transform(df['updown']) # what is label encoding, ? also read more about preprocessing"
   ]
  },
  {
   "cell_type": "code",
   "execution_count": 257,
   "metadata": {
    "collapsed": false
   },
   "outputs": [
    {
     "data": {
      "text/html": [
       "<div>\n",
       "<table border=\"1\" class=\"dataframe\">\n",
       "  <thead>\n",
       "    <tr style=\"text-align: right;\">\n",
       "      <th></th>\n",
       "      <th>close_value</th>\n",
       "      <th>daily-returns</th>\n",
       "      <th>multiple_day</th>\n",
       "      <th>rolling</th>\n",
       "      <th>time-lagged</th>\n",
       "    </tr>\n",
       "  </thead>\n",
       "  <tbody>\n",
       "    <tr>\n",
       "      <th>0</th>\n",
       "      <td>121.6300</td>\n",
       "      <td>NaN</td>\n",
       "      <td>NaN</td>\n",
       "      <td>NaN</td>\n",
       "      <td>-0.3100</td>\n",
       "    </tr>\n",
       "    <tr>\n",
       "      <th>1</th>\n",
       "      <td>121.7190</td>\n",
       "      <td>0.000732</td>\n",
       "      <td>NaN</td>\n",
       "      <td>NaN</td>\n",
       "      <td>-0.1310</td>\n",
       "    </tr>\n",
       "    <tr>\n",
       "      <th>2</th>\n",
       "      <td>121.9400</td>\n",
       "      <td>0.001816</td>\n",
       "      <td>NaN</td>\n",
       "      <td>NaN</td>\n",
       "      <td>1.9692</td>\n",
       "    </tr>\n",
       "    <tr>\n",
       "      <th>3</th>\n",
       "      <td>121.8500</td>\n",
       "      <td>-0.000738</td>\n",
       "      <td>0.001809</td>\n",
       "      <td>NaN</td>\n",
       "      <td>1.7700</td>\n",
       "    </tr>\n",
       "    <tr>\n",
       "      <th>4</th>\n",
       "      <td>119.9708</td>\n",
       "      <td>-0.015422</td>\n",
       "      <td>-0.014363</td>\n",
       "      <td>-0.003403</td>\n",
       "      <td>-0.0292</td>\n",
       "    </tr>\n",
       "  </tbody>\n",
       "</table>\n",
       "</div>"
      ],
      "text/plain": [
       "   close_value  daily-returns  multiple_day   rolling  time-lagged\n",
       "0     121.6300            NaN           NaN       NaN      -0.3100\n",
       "1     121.7190       0.000732           NaN       NaN      -0.1310\n",
       "2     121.9400       0.001816           NaN       NaN       1.9692\n",
       "3     121.8500      -0.000738      0.001809       NaN       1.7700\n",
       "4     119.9708      -0.015422     -0.014363 -0.003403      -0.0292"
      ]
     },
     "execution_count": 257,
     "metadata": {},
     "output_type": "execute_result"
    }
   ],
   "source": [
    "seris_dict ={'close_value':df['Adj. Close'],'daily-returns':df['returns'],'rolling':df['rolling'],'time-lagged':df['time_lagged'],'multiple_day':df['multiple_day']}\n",
    "new_df = pd.DataFrame(seris_dict)\n",
    "new_df.head()"
   ]
  },
  {
   "cell_type": "code",
   "execution_count": 258,
   "metadata": {
    "collapsed": false
   },
   "outputs": [],
   "source": [
    "features = new_df.columns"
   ]
  },
  {
   "cell_type": "code",
   "execution_count": 259,
   "metadata": {
    "collapsed": false
   },
   "outputs": [
    {
     "data": {
      "text/plain": [
       "pandas.indexes.base.Index"
      ]
     },
     "execution_count": 259,
     "metadata": {},
     "output_type": "execute_result"
    }
   ],
   "source": [
    "type(features)"
   ]
  },
  {
   "cell_type": "code",
   "execution_count": 260,
   "metadata": {
    "collapsed": false
   },
   "outputs": [
    {
     "data": {
      "text/plain": [
       "Index([u'close_value', u'daily-returns', u'multiple_day', u'rolling',\n",
       "       u'time-lagged'],\n",
       "      dtype='object')"
      ]
     },
     "execution_count": 260,
     "metadata": {},
     "output_type": "execute_result"
    }
   ],
   "source": [
    "features"
   ]
  },
  {
   "cell_type": "code",
   "execution_count": 262,
   "metadata": {
    "collapsed": false
   },
   "outputs": [
    {
     "data": {
      "text/html": [
       "<div>\n",
       "<table border=\"1\" class=\"dataframe\">\n",
       "  <thead>\n",
       "    <tr style=\"text-align: right;\">\n",
       "      <th></th>\n",
       "      <th>close_value</th>\n",
       "      <th>daily-returns</th>\n",
       "      <th>multiple_day</th>\n",
       "      <th>rolling</th>\n",
       "      <th>time-lagged</th>\n",
       "    </tr>\n",
       "  </thead>\n",
       "  <tbody>\n",
       "    <tr>\n",
       "      <th>0</th>\n",
       "      <td>121.6300</td>\n",
       "      <td>NaN</td>\n",
       "      <td>NaN</td>\n",
       "      <td>NaN</td>\n",
       "      <td>-0.3100</td>\n",
       "    </tr>\n",
       "    <tr>\n",
       "      <th>1</th>\n",
       "      <td>121.7190</td>\n",
       "      <td>0.000732</td>\n",
       "      <td>NaN</td>\n",
       "      <td>NaN</td>\n",
       "      <td>-0.1310</td>\n",
       "    </tr>\n",
       "    <tr>\n",
       "      <th>2</th>\n",
       "      <td>121.9400</td>\n",
       "      <td>0.001816</td>\n",
       "      <td>NaN</td>\n",
       "      <td>NaN</td>\n",
       "      <td>1.9692</td>\n",
       "    </tr>\n",
       "    <tr>\n",
       "      <th>3</th>\n",
       "      <td>121.8500</td>\n",
       "      <td>-0.000738</td>\n",
       "      <td>0.001809</td>\n",
       "      <td>NaN</td>\n",
       "      <td>1.7700</td>\n",
       "    </tr>\n",
       "    <tr>\n",
       "      <th>4</th>\n",
       "      <td>119.9708</td>\n",
       "      <td>-0.015422</td>\n",
       "      <td>-0.014363</td>\n",
       "      <td>-0.003403</td>\n",
       "      <td>-0.0292</td>\n",
       "    </tr>\n",
       "  </tbody>\n",
       "</table>\n",
       "</div>"
      ],
      "text/plain": [
       "   close_value  daily-returns  multiple_day   rolling  time-lagged\n",
       "0     121.6300            NaN           NaN       NaN      -0.3100\n",
       "1     121.7190       0.000732           NaN       NaN      -0.1310\n",
       "2     121.9400       0.001816           NaN       NaN       1.9692\n",
       "3     121.8500      -0.000738      0.001809       NaN       1.7700\n",
       "4     119.9708      -0.015422     -0.014363 -0.003403      -0.0292"
      ]
     },
     "execution_count": 262,
     "metadata": {},
     "output_type": "execute_result"
    }
   ],
   "source": [
    "new_df[features].head()"
   ]
  },
  {
   "cell_type": "code",
   "execution_count": 310,
   "metadata": {
    "collapsed": false
   },
   "outputs": [
    {
     "data": {
      "text/plain": [
       "0     NaN\n",
       "1      up\n",
       "2      up\n",
       "3    down\n",
       "4    down\n",
       "Name: updown, dtype: object"
      ]
     },
     "execution_count": 310,
     "metadata": {},
     "output_type": "execute_result"
    }
   ],
   "source": [
    "df.updown.head()"
   ]
  },
  {
   "cell_type": "code",
   "execution_count": 311,
   "metadata": {
    "collapsed": false
   },
   "outputs": [],
   "source": [
    "X = new_df[features].dropna()\n",
    "Y =  df.updown[6:]\n",
    "#new_df[features].dropna()"
   ]
  },
  {
   "cell_type": "code",
   "execution_count": 312,
   "metadata": {
    "collapsed": false
   },
   "outputs": [],
   "source": [
    "#dir(sklearn.model_selection)\n",
    "from sklearn.model_selection import train_test_split,TimeSeriesSplit\n",
    "# What is the difference between tain_test_split and cross validation?"
   ]
  },
  {
   "cell_type": "code",
   "execution_count": 313,
   "metadata": {
    "collapsed": false
   },
   "outputs": [],
   "source": [
    "X_train,X_test,Y_train,Y_test = train_test_split(X,Y)\n",
    "#X_train,X_test,Y_train,Y_test = TimeSeriesSplit(X) - Why it is not working?"
   ]
  },
  {
   "cell_type": "code",
   "execution_count": 314,
   "metadata": {
    "collapsed": false
   },
   "outputs": [
    {
     "data": {
      "text/html": [
       "<div>\n",
       "<table border=\"1\" class=\"dataframe\">\n",
       "  <thead>\n",
       "    <tr style=\"text-align: right;\">\n",
       "      <th></th>\n",
       "      <th>close_value</th>\n",
       "      <th>daily-returns</th>\n",
       "      <th>multiple_day</th>\n",
       "      <th>rolling</th>\n",
       "      <th>time-lagged</th>\n",
       "    </tr>\n",
       "  </thead>\n",
       "  <tbody>\n",
       "    <tr>\n",
       "      <th>6465</th>\n",
       "      <td>1.522772</td>\n",
       "      <td>0.002442</td>\n",
       "      <td>0.056187</td>\n",
       "      <td>0.016551</td>\n",
       "      <td>0.050089</td>\n",
       "    </tr>\n",
       "    <tr>\n",
       "      <th>1386</th>\n",
       "      <td>51.084252</td>\n",
       "      <td>0.001965</td>\n",
       "      <td>-0.010485</td>\n",
       "      <td>0.002438</td>\n",
       "      <td>-0.769016</td>\n",
       "    </tr>\n",
       "    <tr>\n",
       "      <th>3001</th>\n",
       "      <td>5.837234</td>\n",
       "      <td>0.008090</td>\n",
       "      <td>0.073463</td>\n",
       "      <td>0.012158</td>\n",
       "      <td>0.051398</td>\n",
       "    </tr>\n",
       "    <tr>\n",
       "      <th>1600</th>\n",
       "      <td>36.924471</td>\n",
       "      <td>-0.013831</td>\n",
       "      <td>-0.029249</td>\n",
       "      <td>-0.006385</td>\n",
       "      <td>1.093017</td>\n",
       "    </tr>\n",
       "    <tr>\n",
       "      <th>1645</th>\n",
       "      <td>31.955146</td>\n",
       "      <td>-0.025051</td>\n",
       "      <td>-0.051903</td>\n",
       "      <td>-0.014072</td>\n",
       "      <td>-0.763811</td>\n",
       "    </tr>\n",
       "  </tbody>\n",
       "</table>\n",
       "</div>"
      ],
      "text/plain": [
       "      close_value  daily-returns  multiple_day   rolling  time-lagged\n",
       "6465     1.522772       0.002442      0.056187  0.016551     0.050089\n",
       "1386    51.084252       0.001965     -0.010485  0.002438    -0.769016\n",
       "3001     5.837234       0.008090      0.073463  0.012158     0.051398\n",
       "1600    36.924471      -0.013831     -0.029249 -0.006385     1.093017\n",
       "1645    31.955146      -0.025051     -0.051903 -0.014072    -0.763811"
      ]
     },
     "execution_count": 314,
     "metadata": {},
     "output_type": "execute_result"
    }
   ],
   "source": [
    "X_train.head()"
   ]
  },
  {
   "cell_type": "code",
   "execution_count": 315,
   "metadata": {
    "collapsed": false
   },
   "outputs": [
    {
     "data": {
      "text/plain": [
       "['BaseCrossValidator',\n",
       " 'GridSearchCV',\n",
       " 'GroupKFold',\n",
       " 'GroupShuffleSplit',\n",
       " 'KFold',\n",
       " 'LeaveOneGroupOut',\n",
       " 'LeaveOneOut',\n",
       " 'LeavePGroupsOut',\n",
       " 'LeavePOut',\n",
       " 'ParameterGrid',\n",
       " 'ParameterSampler',\n",
       " 'PredefinedSplit',\n",
       " 'RandomizedSearchCV',\n",
       " 'ShuffleSplit',\n",
       " 'StratifiedKFold',\n",
       " 'StratifiedShuffleSplit',\n",
       " 'TimeSeriesSplit',\n",
       " '__all__',\n",
       " '__builtins__',\n",
       " '__doc__',\n",
       " '__file__',\n",
       " '__name__',\n",
       " '__package__',\n",
       " '__path__',\n",
       " '_search',\n",
       " '_split',\n",
       " '_validation',\n",
       " 'check_cv',\n",
       " 'cross_val_predict',\n",
       " 'cross_val_score',\n",
       " 'fit_grid_point',\n",
       " 'learning_curve',\n",
       " 'permutation_test_score',\n",
       " 'train_test_split',\n",
       " 'validation_curve']"
      ]
     },
     "execution_count": 315,
     "metadata": {},
     "output_type": "execute_result"
    }
   ],
   "source": [
    "dir(sklearn.model_selection) # Look for other  models and you will get idea like what those other models do?"
   ]
  },
  {
   "cell_type": "code",
   "execution_count": 316,
   "metadata": {
    "collapsed": true
   },
   "outputs": [],
   "source": [
    "from sklearn.ensemble import RandomForestClassifier"
   ]
  },
  {
   "cell_type": "code",
   "execution_count": 317,
   "metadata": {
    "collapsed": true
   },
   "outputs": [],
   "source": [
    "rf = RandomForestClassifier()"
   ]
  },
  {
   "cell_type": "code",
   "execution_count": 324,
   "metadata": {
    "collapsed": false
   },
   "outputs": [
    {
     "data": {
      "text/plain": [
       "RandomForestClassifier(bootstrap=True, class_weight=None, criterion='gini',\n",
       "            max_depth=None, max_features='auto', max_leaf_nodes=None,\n",
       "            min_impurity_split=1e-07, min_samples_leaf=1,\n",
       "            min_samples_split=2, min_weight_fraction_leaf=0.0,\n",
       "            n_estimators=10, n_jobs=1, oob_score=False, random_state=None,\n",
       "            verbose=0, warm_start=False)"
      ]
     },
     "execution_count": 324,
     "metadata": {},
     "output_type": "execute_result"
    }
   ],
   "source": [
    "rf.fit(X_train,Y_train) # how to remove Nan's? from Pandas or somewhereelse use dropna() method or finance.fillna(finance.mean())"
   ]
  },
  {
   "cell_type": "code",
   "execution_count": 321,
   "metadata": {
    "collapsed": false
   },
   "outputs": [
    {
     "data": {
      "text/plain": [
       "array(['down', 'up', 'down', ..., 'down', 'down', 'down'], dtype=object)"
      ]
     },
     "execution_count": 321,
     "metadata": {},
     "output_type": "execute_result"
    }
   ],
   "source": [
    "prediction.predict(X_test)"
   ]
  },
  {
   "cell_type": "code",
   "execution_count": 322,
   "metadata": {
    "collapsed": true
   },
   "outputs": [],
   "source": [
    "accuracy = rf.score(X_test,Y_test)"
   ]
  },
  {
   "cell_type": "code",
   "execution_count": 325,
   "metadata": {
    "collapsed": false
   },
   "outputs": [
    {
     "name": "stdout",
     "output_type": "stream",
     "text": [
      "0.731225296443\n"
     ]
    }
   ],
   "source": [
    "print accuracy"
   ]
  },
  {
   "cell_type": "code",
   "execution_count": 326,
   "metadata": {
    "collapsed": true
   },
   "outputs": [],
   "source": [
    "from sklearn.ensemble import AdaBoostClassifier"
   ]
  },
  {
   "cell_type": "code",
   "execution_count": 327,
   "metadata": {
    "collapsed": true
   },
   "outputs": [],
   "source": [
    "ada = AdaBoostClassifier()"
   ]
  },
  {
   "cell_type": "code",
   "execution_count": 346,
   "metadata": {
    "collapsed": false
   },
   "outputs": [
    {
     "data": {
      "text/plain": [
       "AdaBoostClassifier(algorithm='SAMME.R', base_estimator=None,\n",
       "          learning_rate=1.0, n_estimators=50, random_state=None)"
      ]
     },
     "execution_count": 346,
     "metadata": {},
     "output_type": "execute_result"
    }
   ],
   "source": [
    "ada.fit(X_train,Y_train)"
   ]
  },
  {
   "cell_type": "code",
   "execution_count": 347,
   "metadata": {
    "collapsed": false
   },
   "outputs": [
    {
     "data": {
      "text/plain": [
       "0.75757575757575757"
      ]
     },
     "execution_count": 347,
     "metadata": {},
     "output_type": "execute_result"
    }
   ],
   "source": [
    "ada.score(X_test,Y_test)"
   ]
  },
  {
   "cell_type": "code",
   "execution_count": 348,
   "metadata": {
    "collapsed": false
   },
   "outputs": [],
   "source": [
    "from sklearn.ensemble import GradientBoostingClassifier"
   ]
  },
  {
   "cell_type": "code",
   "execution_count": 349,
   "metadata": {
    "collapsed": true
   },
   "outputs": [],
   "source": [
    "gbc = GradientBoostingClassifier()"
   ]
  },
  {
   "cell_type": "code",
   "execution_count": 350,
   "metadata": {
    "collapsed": false
   },
   "outputs": [
    {
     "data": {
      "text/plain": [
       "GradientBoostingClassifier(criterion='friedman_mse', init=None,\n",
       "              learning_rate=0.1, loss='deviance', max_depth=3,\n",
       "              max_features=None, max_leaf_nodes=None,\n",
       "              min_impurity_split=1e-07, min_samples_leaf=1,\n",
       "              min_samples_split=2, min_weight_fraction_leaf=0.0,\n",
       "              n_estimators=100, presort='auto', random_state=None,\n",
       "              subsample=1.0, verbose=0, warm_start=False)"
      ]
     },
     "execution_count": 350,
     "metadata": {},
     "output_type": "execute_result"
    }
   ],
   "source": [
    "gbc.fit(X_train,Y_train)"
   ]
  },
  {
   "cell_type": "code",
   "execution_count": 351,
   "metadata": {
    "collapsed": false
   },
   "outputs": [
    {
     "data": {
      "text/plain": [
       "0.75669740887132186"
      ]
     },
     "execution_count": 351,
     "metadata": {},
     "output_type": "execute_result"
    }
   ],
   "source": [
    "gbc.score(X_test,Y_test)"
   ]
  },
  {
   "cell_type": "code",
   "execution_count": 352,
   "metadata": {
    "collapsed": true
   },
   "outputs": [],
   "source": [
    "from sklearn.svm import SVC"
   ]
  },
  {
   "cell_type": "code",
   "execution_count": 353,
   "metadata": {
    "collapsed": true
   },
   "outputs": [],
   "source": [
    "clf = SVC()"
   ]
  },
  {
   "cell_type": "code",
   "execution_count": 354,
   "metadata": {
    "collapsed": false
   },
   "outputs": [
    {
     "data": {
      "text/plain": [
       "SVC(C=1.0, cache_size=200, class_weight=None, coef0=0.0,\n",
       "  decision_function_shape=None, degree=3, gamma='auto', kernel='rbf',\n",
       "  max_iter=-1, probability=False, random_state=None, shrinking=True,\n",
       "  tol=0.001, verbose=False)"
      ]
     },
     "execution_count": 354,
     "metadata": {},
     "output_type": "execute_result"
    }
   ],
   "source": [
    "clf.fit(X_train,Y_train)"
   ]
  },
  {
   "cell_type": "code",
   "execution_count": 355,
   "metadata": {
    "collapsed": false
   },
   "outputs": [
    {
     "data": {
      "text/plain": [
       "0.69257795344751871"
      ]
     },
     "execution_count": 355,
     "metadata": {},
     "output_type": "execute_result"
    }
   ],
   "source": [
    "clf.score(X_test,Y_test)"
   ]
  },
  {
   "cell_type": "code",
   "execution_count": 356,
   "metadata": {
    "collapsed": false
   },
   "outputs": [],
   "source": [
    "from sklearn.qda import QDA"
   ]
  },
  {
   "cell_type": "code",
   "execution_count": 357,
   "metadata": {
    "collapsed": true
   },
   "outputs": [],
   "source": [
    "des_a = QDA()"
   ]
  },
  {
   "cell_type": "code",
   "execution_count": 358,
   "metadata": {
    "collapsed": false
   },
   "outputs": [
    {
     "data": {
      "text/plain": [
       "QDA(priors=None, reg_param=0.0, store_covariances=False, tol=0.0001)"
      ]
     },
     "execution_count": 358,
     "metadata": {},
     "output_type": "execute_result"
    }
   ],
   "source": [
    "des_a.fit(X_train,Y_train)"
   ]
  },
  {
   "cell_type": "code",
   "execution_count": 359,
   "metadata": {
    "collapsed": false
   },
   "outputs": [
    {
     "data": {
      "text/plain": [
       "0.57619675010979354"
      ]
     },
     "execution_count": 359,
     "metadata": {},
     "output_type": "execute_result"
    }
   ],
   "source": [
    "des_a.score(X_test,Y_test)"
   ]
  },
  {
   "cell_type": "code",
   "execution_count": 360,
   "metadata": {
    "collapsed": true
   },
   "outputs": [],
   "source": [
    "%matplotlib inline"
   ]
  },
  {
   "cell_type": "code",
   "execution_count": 361,
   "metadata": {
    "collapsed": true
   },
   "outputs": [],
   "source": [
    "import matplotlib.pyplot as plt"
   ]
  },
  {
   "cell_type": "code",
   "execution_count": 363,
   "metadata": {
    "collapsed": false
   },
   "outputs": [
    {
     "data": {
      "text/plain": [
       "array(['down', 'up', 'up', ..., 'down', 'down', 'down'], dtype=object)"
      ]
     },
     "execution_count": 363,
     "metadata": {},
     "output_type": "execute_result"
    }
   ],
   "source": [
    "des_a.predict(X_test)"
   ]
  },
  {
   "cell_type": "code",
   "execution_count": 391,
   "metadata": {
    "collapsed": true
   },
   "outputs": [],
   "source": [
    "from sklearn.neural_network import MLPClassifier\n",
    "mlp = MLPClassifier(hidden_layer_sizes=(30,30,30),max_iter=200,validation_fraction=0.9)"
   ]
  },
  {
   "cell_type": "code",
   "execution_count": 392,
   "metadata": {
    "collapsed": false
   },
   "outputs": [
    {
     "data": {
      "text/plain": [
       "MLPClassifier(activation='relu', alpha=0.0001, batch_size='auto', beta_1=0.9,\n",
       "       beta_2=0.999, early_stopping=False, epsilon=1e-08,\n",
       "       hidden_layer_sizes=(30, 30, 30), learning_rate='constant',\n",
       "       learning_rate_init=0.001, max_iter=200, momentum=0.9,\n",
       "       nesterovs_momentum=True, power_t=0.5, random_state=None,\n",
       "       shuffle=True, solver='adam', tol=0.0001, validation_fraction=0.9,\n",
       "       verbose=False, warm_start=False)"
      ]
     },
     "execution_count": 392,
     "metadata": {},
     "output_type": "execute_result"
    }
   ],
   "source": [
    "mlp.fit(X_train,Y_train)"
   ]
  },
  {
   "cell_type": "code",
   "execution_count": 393,
   "metadata": {
    "collapsed": false
   },
   "outputs": [
    {
     "data": {
      "text/plain": [
       "0.75537988581466842"
      ]
     },
     "execution_count": 393,
     "metadata": {},
     "output_type": "execute_result"
    }
   ],
   "source": [
    "mlp.score(X_test,Y_test)"
   ]
  },
  {
   "cell_type": "code",
   "execution_count": null,
   "metadata": {
    "collapsed": true
   },
   "outputs": [],
   "source": []
  }
 ],
 "metadata": {
  "anaconda-cloud": {},
  "kernelspec": {
   "display_name": "Python [conda root]",
   "language": "python",
   "name": "conda-root-py"
  },
  "language_info": {
   "codemirror_mode": {
    "name": "ipython",
    "version": 2
   },
   "file_extension": ".py",
   "mimetype": "text/x-python",
   "name": "python",
   "nbconvert_exporter": "python",
   "pygments_lexer": "ipython2",
   "version": "2.7.12"
  }
 },
 "nbformat": 4,
 "nbformat_minor": 1
}
